{
 "cells": [
  {
   "cell_type": "markdown",
   "metadata": {},
   "source": [
    "### **Four datas of meat process**"
   ]
  },
  {
   "cell_type": "code",
   "execution_count": 2,
   "metadata": {},
   "outputs": [],
   "source": [
    "import pandas as pd\n",
    "data1 = pd.read_csv(\"Datathon Data/acs_5yr_est_selected_economic_characteristics_2010-2022.csv\")\n",
    "deheader = data1.loc[data1['Category'] != 'Header']\n",
    "# deheader.head(20)"
   ]
  },
  {
   "cell_type": "markdown",
   "metadata": {},
   "source": [
    "读取数据"
   ]
  },
  {
   "cell_type": "code",
   "execution_count": 3,
   "metadata": {},
   "outputs": [
    {
     "data": {
      "text/html": [
       "<div>\n",
       "<style scoped>\n",
       "    .dataframe tbody tr th:only-of-type {\n",
       "        vertical-align: middle;\n",
       "    }\n",
       "\n",
       "    .dataframe tbody tr th {\n",
       "        vertical-align: top;\n",
       "    }\n",
       "\n",
       "    .dataframe thead th {\n",
       "        text-align: right;\n",
       "    }\n",
       "</style>\n",
       "<table border=\"1\" class=\"dataframe\">\n",
       "  <thead>\n",
       "    <tr style=\"text-align: right;\">\n",
       "      <th></th>\n",
       "      <th>Unnamed: 0</th>\n",
       "      <th>Date</th>\n",
       "      <th>Year</th>\n",
       "      <th>Month</th>\n",
       "      <th>Unit</th>\n",
       "      <th>Animal</th>\n",
       "      <th>Weight</th>\n",
       "      <th>Commercial_Or_Federally_Inspected</th>\n",
       "      <th>Live_Or_Dressed</th>\n",
       "      <th>Type_Of_Meat</th>\n",
       "    </tr>\n",
       "  </thead>\n",
       "  <tbody>\n",
       "    <tr>\n",
       "      <th>0</th>\n",
       "      <td>0</td>\n",
       "      <td>Dec-23</td>\n",
       "      <td>2023</td>\n",
       "      <td>12</td>\n",
       "      <td>Average Weight in Pounds</td>\n",
       "      <td>Cattle</td>\n",
       "      <td>1401.0</td>\n",
       "      <td>Commercial</td>\n",
       "      <td>Live</td>\n",
       "      <td>Red Meat</td>\n",
       "    </tr>\n",
       "    <tr>\n",
       "      <th>1</th>\n",
       "      <td>1</td>\n",
       "      <td>Nov-23</td>\n",
       "      <td>2023</td>\n",
       "      <td>11</td>\n",
       "      <td>Average Weight in Pounds</td>\n",
       "      <td>Cattle</td>\n",
       "      <td>1387.0</td>\n",
       "      <td>Commercial</td>\n",
       "      <td>Live</td>\n",
       "      <td>Red Meat</td>\n",
       "    </tr>\n",
       "    <tr>\n",
       "      <th>2</th>\n",
       "      <td>2</td>\n",
       "      <td>Oct-23</td>\n",
       "      <td>2023</td>\n",
       "      <td>10</td>\n",
       "      <td>Average Weight in Pounds</td>\n",
       "      <td>Cattle</td>\n",
       "      <td>1374.0</td>\n",
       "      <td>Commercial</td>\n",
       "      <td>Live</td>\n",
       "      <td>Red Meat</td>\n",
       "    </tr>\n",
       "    <tr>\n",
       "      <th>3</th>\n",
       "      <td>3</td>\n",
       "      <td>Sep-23</td>\n",
       "      <td>2023</td>\n",
       "      <td>9</td>\n",
       "      <td>Average Weight in Pounds</td>\n",
       "      <td>Cattle</td>\n",
       "      <td>1362.0</td>\n",
       "      <td>Commercial</td>\n",
       "      <td>Live</td>\n",
       "      <td>Red Meat</td>\n",
       "    </tr>\n",
       "    <tr>\n",
       "      <th>4</th>\n",
       "      <td>4</td>\n",
       "      <td>Aug-23</td>\n",
       "      <td>2023</td>\n",
       "      <td>8</td>\n",
       "      <td>Average Weight in Pounds</td>\n",
       "      <td>Cattle</td>\n",
       "      <td>1350.0</td>\n",
       "      <td>Commercial</td>\n",
       "      <td>Live</td>\n",
       "      <td>Red Meat</td>\n",
       "    </tr>\n",
       "  </tbody>\n",
       "</table>\n",
       "</div>"
      ],
      "text/plain": [
       "   Unnamed: 0    Date  Year  Month                      Unit  Animal  Weight  \\\n",
       "0           0  Dec-23  2023     12  Average Weight in Pounds  Cattle  1401.0   \n",
       "1           1  Nov-23  2023     11  Average Weight in Pounds  Cattle  1387.0   \n",
       "2           2  Oct-23  2023     10  Average Weight in Pounds  Cattle  1374.0   \n",
       "3           3  Sep-23  2023      9  Average Weight in Pounds  Cattle  1362.0   \n",
       "4           4  Aug-23  2023      8  Average Weight in Pounds  Cattle  1350.0   \n",
       "\n",
       "  Commercial_Or_Federally_Inspected Live_Or_Dressed Type_Of_Meat  \n",
       "0                        Commercial            Live     Red Meat  \n",
       "1                        Commercial            Live     Red Meat  \n",
       "2                        Commercial            Live     Red Meat  \n",
       "3                        Commercial            Live     Red Meat  \n",
       "4                        Commercial            Live     Red Meat  "
      ]
     },
     "execution_count": 3,
     "metadata": {},
     "output_type": "execute_result"
    }
   ],
   "source": [
    "storage_data1 = pd.read_csv('Meat_Stats_Cold_Storage.csv')\n",
    "production_data2 = pd.read_csv('Meat_Stats_Meat_Production.csv')\n",
    "counts_data3 = pd.read_csv('Meat_Stats_Slaughter_Counts.csv')\n",
    "slaughter_data4 = pd.read_csv('Meat_Stats_Slaughter_Weights.csv')\n",
    "slaughter_data4.head(5)"
   ]
  },
  {
   "cell_type": "markdown",
   "metadata": {},
   "source": [
    "统一主数据列名为Amount，方便统一编写函数"
   ]
  },
  {
   "cell_type": "code",
   "execution_count": 4,
   "metadata": {},
   "outputs": [
    {
     "ename": "NameError",
     "evalue": "name 'data2' is not defined",
     "output_type": "error",
     "traceback": [
      "\u001b[1;31m---------------------------------------------------------------------------\u001b[0m",
      "\u001b[1;31mNameError\u001b[0m                                 Traceback (most recent call last)",
      "Cell \u001b[1;32mIn[4], line 14\u001b[0m\n\u001b[0;32m     11\u001b[0m         Counts\u001b[38;5;241m.\u001b[39mappend(\u001b[38;5;28mfloat\u001b[39m(\u001b[38;5;28mstr\u001b[39m(i)\u001b[38;5;241m.\u001b[39mreplace(\u001b[38;5;124m'\u001b[39m\u001b[38;5;124m,\u001b[39m\u001b[38;5;124m'\u001b[39m,\u001b[38;5;124m'\u001b[39m\u001b[38;5;124m'\u001b[39m)))\n\u001b[0;32m     12\u001b[0m     data[\u001b[38;5;124m'\u001b[39m\u001b[38;5;124mAmount\u001b[39m\u001b[38;5;124m'\u001b[39m] \u001b[38;5;241m=\u001b[39m Counts\n\u001b[1;32m---> 14\u001b[0m replace_columns(\u001b[43mdata2\u001b[49m,\u001b[38;5;124m'\u001b[39m\u001b[38;5;124mWeight\u001b[39m\u001b[38;5;124m'\u001b[39m)\n\u001b[0;32m     15\u001b[0m replace_columns(data3,\u001b[38;5;124m'\u001b[39m\u001b[38;5;124mProduction\u001b[39m\u001b[38;5;124m'\u001b[39m)\n\u001b[0;32m     16\u001b[0m replace_columns(data4,\u001b[38;5;124m'\u001b[39m\u001b[38;5;124mCount\u001b[39m\u001b[38;5;124m'\u001b[39m)\n",
      "\u001b[1;31mNameError\u001b[0m: name 'data2' is not defined"
     ]
    }
   ],
   "source": [
    "def replace_columns(data,name):\n",
    "    ans = []\n",
    "    for i in list(data.columns):\n",
    "        if i == name:\n",
    "            ans.append('Amount')\n",
    "        else:\n",
    "            ans.append(i)\n",
    "    data.columns = ans\n",
    "    Counts = []\n",
    "    for i in list(data['Amount']):\n",
    "        Counts.append(float(str(i).replace(',','')))\n",
    "    data['Amount'] = Counts\n",
    "\n",
    "replace_columns(production_data2,'Weight')\n",
    "replace_columns(_data3,'Production')\n",
    "replace_columns(data4,'Count')\n",
    "replace_columns(data5,'Weight')\n",
    "\n",
    "data4.head(5)\n"
   ]
  },
  {
   "cell_type": "markdown",
   "metadata": {},
   "source": [
    "时间序列折线图绘制函数"
   ]
  },
  {
   "cell_type": "code",
   "execution_count": null,
   "metadata": {},
   "outputs": [],
   "source": [
    "import matplotlib.pyplot as plt\n",
    "import datetime as dt\n",
    "\n",
    "def plot_strange(data):\n",
    "    uniq = data['Animal'].unique()\n",
    "    n = len(uniq)\n",
    "    \n",
    "    fig = plt.figure(figsize=(15,2.5*n))\n",
    "    \n",
    "    for i in range(n):\n",
    "        datanew = data.loc[data['Animal'] == uniq[i]]\n",
    "        x = []\n",
    "        for k in range(datanew.shape[0]):\n",
    "            strk = '{}-{}'.format(list(datanew['Year'])[k],list(datanew['Month'])[k])\n",
    "            x.append(dt.datetime.strptime(strk,'%Y-%m'))\n",
    "        \n",
    "        y = datanew['Amount']\n",
    "        ax = fig.add_subplot(n//2+1,2, i+1)\n",
    "        # print(len(x),len(y),x[0])\n",
    "        # x=[i for i in range(2024)], [1]*2024\n",
    "        ax.plot(x,y)\n",
    "        ax.set_title(data['Animal'].unique()[i])\n",
    "    plt.show()\n",
    "\n",
    "plot_strange(data2)\n"
   ]
  },
  {
   "cell_type": "markdown",
   "metadata": {},
   "source": [
    "箱线图绘制函数"
   ]
  },
  {
   "cell_type": "code",
   "execution_count": null,
   "metadata": {},
   "outputs": [],
   "source": [
    "def animal_boxplot(data):\n",
    "    uniq = data['Animal'].unique()\n",
    "    n = len(uniq)\n",
    "    fig = plt.figure(figsize=(12,2*n))\n",
    "    for i in range(n):\n",
    "        datanew = data.loc[data['Animal'] == uniq[i]]\n",
    "        y = datanew['Amount']\n",
    "        # print(uniq[i],y.describe())\n",
    "        ax = fig.add_subplot(n//3+1,3, i+1)\n",
    "        ax.boxplot(y.dropna())\n",
    "        ax.set_title(uniq[i])\n",
    "    plt.show()\n"
   ]
  },
  {
   "cell_type": "markdown",
   "metadata": {},
   "source": [
    "绘制data4的箱线图"
   ]
  },
  {
   "cell_type": "code",
   "execution_count": null,
   "metadata": {},
   "outputs": [],
   "source": [
    "animal_boxplot(data3)"
   ]
  },
  {
   "cell_type": "markdown",
   "metadata": {},
   "source": [
    "发现有异常值，去除异常值。"
   ]
  },
  {
   "cell_type": "code",
   "execution_count": null,
   "metadata": {},
   "outputs": [],
   "source": [
    "def drop_strange(data):\n",
    "    uniq = data['Animal'].unique()\n",
    "    n = len(uniq)\n",
    "    # fig = plt.figure(figsize=(12,2*n))\n",
    "    dic_data = dict()\n",
    "    for i in range(n):\n",
    "        datanew = data.loc[data['Animal'] == uniq[i]]\n",
    "        y = datanew['Amount']\n",
    "        IQR = y.quantile(0.75) - y.quantile(0.25)\n",
    "        dic_data[uniq[i]] = (y.median()-2.5*IQR , y.median()+2.5*IQR) # 波动区间\n",
    "    for k in range(data.shape[0]):\n",
    "        if data.loc[k,'Animal'] == 'Turkeys':\n",
    "            continue\n",
    "        intercept = dic_data[data['Animal'][k]]\n",
    "        if (data.loc[k,'Amount']< intercept[0] or data.loc[k,'Amount'] > intercept[1]):\n",
    "            data.loc[k,'Amount'] = data.loc[k-1,'Amount'] if data.loc[k-1,'Animal']== data.loc[k,'Animal'] else data.loc[k+1,'Amount']\n",
    "\n",
    "drop_strange(data2)\n",
    "drop_strange(data3)\n",
    "drop_strange(data4)\n",
    "drop_strange(data5)\n"
   ]
  },
  {
   "cell_type": "code",
   "execution_count": null,
   "metadata": {},
   "outputs": [],
   "source": [
    "data3.describe()"
   ]
  },
  {
   "cell_type": "markdown",
   "metadata": {},
   "source": [
    "再次绘制data4的箱线图查看情况:"
   ]
  },
  {
   "cell_type": "code",
   "execution_count": null,
   "metadata": {},
   "outputs": [],
   "source": [
    "animal_boxplot(data4)"
   ]
  },
  {
   "cell_type": "markdown",
   "metadata": {},
   "source": [
    "↑正常了好多"
   ]
  },
  {
   "cell_type": "markdown",
   "metadata": {},
   "source": [
    "保存csv：\n"
   ]
  },
  {
   "cell_type": "code",
   "execution_count": null,
   "metadata": {},
   "outputs": [],
   "source": [
    "# data2.to_csv(path_or_buf = \"C:/Users/Zhang/Desktop/python/Citadel/Datathon Data/Meat_Stats_Cold_Storage.csv\")\n",
    "data3.to_csv(path_or_buf = \"C:/Users/Zhang/Desktop/python/Citadel/Datathon Data/Meat_Stats_Meat_Production.csv\")\n",
    "# data4.to_csv(path_or_buf = \"C:/Users/Zhang/Desktop/python/Citadel/Datathon Data/Meat_Stats_Slaughter_Counts.csv\")\n",
    "# data5.to_csv(path_or_buf = \"C:/Users/Zhang/Desktop/python/Citadel/Datathon Data/Meat_Stats_Slaughter_Weights.csv\")"
   ]
  }
 ],
 "metadata": {
  "kernelspec": {
   "display_name": "Python 3",
   "language": "python",
   "name": "python3"
  },
  "language_info": {
   "codemirror_mode": {
    "name": "ipython",
    "version": 3
   },
   "file_extension": ".py",
   "mimetype": "text/x-python",
   "name": "python",
   "nbconvert_exporter": "python",
   "pygments_lexer": "ipython3",
   "version": "3.10.7"
  }
 },
 "nbformat": 4,
 "nbformat_minor": 2
}
