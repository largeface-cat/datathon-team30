{
 "cells": [
  {
   "cell_type": "code",
   "execution_count": 1,
   "id": "45612b07",
   "metadata": {},
   "outputs": [],
   "source": [
    "import pandas as pd\n",
    "import numpy as np\n",
    "import yfinance as yf\n",
    "import datetime as dt\n",
    "import matplotlib.pyplot as plt"
   ]
  },
  {
   "cell_type": "code",
   "execution_count": 2,
   "id": "90ba25c3",
   "metadata": {},
   "outputs": [
    {
     "name": "stderr",
     "output_type": "stream",
     "text": [
      "C:\\Users\\17925\\AppData\\Local\\Temp\\ipykernel_32420\\938824886.py:1: DtypeWarning: Columns (18,19,21,22) have mixed types. Specify dtype option on import or set low_memory=False.\n",
      "  obesity_data = pd.read_csv('Nutrition_Physical_Activity_and_Obesity_Data.csv')\n"
     ]
    }
   ],
   "source": [
    "obesity_data = pd.read_csv('Nutrition_Physical_Activity_and_Obesity_Data.csv')"
   ]
  },
  {
   "cell_type": "code",
   "execution_count": 3,
   "id": "964c1ba5",
   "metadata": {},
   "outputs": [
    {
     "data": {
      "text/plain": [
       "Index(['YearStart', 'YearEnd', 'LocationAbbr', 'LocationDesc', 'Datasource',\n",
       "       'Class', 'Topic', 'Question', 'Data_Value_Unit', 'Data_Value_Type',\n",
       "       'Data_Value', 'Data_Value_Alt', 'Data_Value_Footnote_Symbol',\n",
       "       'Data_Value_Footnote', 'Low_Confidence_Limit', 'High_Confidence_Limit',\n",
       "       'Sample_Size', 'Total', 'Age(years)', 'Education', 'Gender', 'Grade',\n",
       "       'Income', 'Race/Ethnicity', 'GeoLocation', 'ClassID', 'TopicID',\n",
       "       'QuestionID', 'DataValueTypeID', 'LocationID',\n",
       "       'StratificationCategory1', 'Stratification1',\n",
       "       'StratificationCategoryId1', 'StratificationID1'],\n",
       "      dtype='object')"
      ]
     },
     "execution_count": 3,
     "metadata": {},
     "output_type": "execute_result"
    }
   ],
   "source": [
    "obesity_data.columns"
   ]
  },
  {
   "cell_type": "code",
   "execution_count": null,
   "id": "59adfd75",
   "metadata": {},
   "outputs": [],
   "source": []
  },
  {
   "cell_type": "code",
   "execution_count": 4,
   "id": "d24d3198",
   "metadata": {},
   "outputs": [],
   "source": [
    "obesity_data = obesity_data[['YearStart','YearEnd','LocationDesc','Class','Question','Data_Value','Age(years)','Income']]"
   ]
  },
  {
   "cell_type": "code",
   "execution_count": 5,
   "id": "6c5d1041",
   "metadata": {},
   "outputs": [
    {
     "data": {
      "text/plain": [
       "array([nan, '25 - 34', '55 - 64', '18 - 24', '45 - 54', '35 - 44',\n",
       "       '65 or older'], dtype=object)"
      ]
     },
     "execution_count": 5,
     "metadata": {},
     "output_type": "execute_result"
    }
   ],
   "source": [
    "obesity_data['Age(years)'].unique()"
   ]
  },
  {
   "cell_type": "code",
   "execution_count": 6,
   "id": "2c4486b7",
   "metadata": {},
   "outputs": [
    {
     "data": {
      "text/html": [
       "<div>\n",
       "<style scoped>\n",
       "    .dataframe tbody tr th:only-of-type {\n",
       "        vertical-align: middle;\n",
       "    }\n",
       "\n",
       "    .dataframe tbody tr th {\n",
       "        vertical-align: top;\n",
       "    }\n",
       "\n",
       "    .dataframe thead th {\n",
       "        text-align: right;\n",
       "    }\n",
       "</style>\n",
       "<table border=\"1\" class=\"dataframe\">\n",
       "  <thead>\n",
       "    <tr style=\"text-align: right;\">\n",
       "      <th></th>\n",
       "      <th>YearStart</th>\n",
       "      <th>YearEnd</th>\n",
       "      <th>LocationDesc</th>\n",
       "      <th>Class</th>\n",
       "      <th>Question</th>\n",
       "      <th>Data_Value</th>\n",
       "      <th>Age(years)</th>\n",
       "      <th>Income</th>\n",
       "    </tr>\n",
       "  </thead>\n",
       "  <tbody>\n",
       "    <tr>\n",
       "      <th>40105</th>\n",
       "      <td>2011</td>\n",
       "      <td>2011</td>\n",
       "      <td>Alabama</td>\n",
       "      <td>Obesity / Weight Status</td>\n",
       "      <td>Percent of adults aged 18 years and older who ...</td>\n",
       "      <td>35.2</td>\n",
       "      <td>25 - 34</td>\n",
       "      <td>NaN</td>\n",
       "    </tr>\n",
       "    <tr>\n",
       "      <th>40162</th>\n",
       "      <td>2015</td>\n",
       "      <td>2015</td>\n",
       "      <td>Puerto Rico</td>\n",
       "      <td>Physical Activity</td>\n",
       "      <td>Percent of adults who achieve at least 150 min...</td>\n",
       "      <td>39.0</td>\n",
       "      <td>25 - 34</td>\n",
       "      <td>NaN</td>\n",
       "    </tr>\n",
       "    <tr>\n",
       "      <th>40180</th>\n",
       "      <td>2011</td>\n",
       "      <td>2011</td>\n",
       "      <td>National</td>\n",
       "      <td>Physical Activity</td>\n",
       "      <td>Percent of adults who engage in no leisure-tim...</td>\n",
       "      <td>22.1</td>\n",
       "      <td>25 - 34</td>\n",
       "      <td>NaN</td>\n",
       "    </tr>\n",
       "    <tr>\n",
       "      <th>40216</th>\n",
       "      <td>2015</td>\n",
       "      <td>2015</td>\n",
       "      <td>Puerto Rico</td>\n",
       "      <td>Physical Activity</td>\n",
       "      <td>Percent of adults who achieve at least 150 min...</td>\n",
       "      <td>15.0</td>\n",
       "      <td>25 - 34</td>\n",
       "      <td>NaN</td>\n",
       "    </tr>\n",
       "    <tr>\n",
       "      <th>40226</th>\n",
       "      <td>2013</td>\n",
       "      <td>2013</td>\n",
       "      <td>Puerto Rico</td>\n",
       "      <td>Obesity / Weight Status</td>\n",
       "      <td>Percent of adults aged 18 years and older who ...</td>\n",
       "      <td>26.5</td>\n",
       "      <td>25 - 34</td>\n",
       "      <td>NaN</td>\n",
       "    </tr>\n",
       "    <tr>\n",
       "      <th>...</th>\n",
       "      <td>...</td>\n",
       "      <td>...</td>\n",
       "      <td>...</td>\n",
       "      <td>...</td>\n",
       "      <td>...</td>\n",
       "      <td>...</td>\n",
       "      <td>...</td>\n",
       "      <td>...</td>\n",
       "    </tr>\n",
       "    <tr>\n",
       "      <th>133231</th>\n",
       "      <td>2022</td>\n",
       "      <td>2022</td>\n",
       "      <td>West Virginia</td>\n",
       "      <td>Obesity / Weight Status</td>\n",
       "      <td>Percent of adults aged 18 years and older who ...</td>\n",
       "      <td>31.7</td>\n",
       "      <td>25 - 34</td>\n",
       "      <td>NaN</td>\n",
       "    </tr>\n",
       "    <tr>\n",
       "      <th>133243</th>\n",
       "      <td>2022</td>\n",
       "      <td>2022</td>\n",
       "      <td>West Virginia</td>\n",
       "      <td>Obesity / Weight Status</td>\n",
       "      <td>Percent of adults aged 18 years and older who ...</td>\n",
       "      <td>42.0</td>\n",
       "      <td>25 - 34</td>\n",
       "      <td>NaN</td>\n",
       "    </tr>\n",
       "    <tr>\n",
       "      <th>133271</th>\n",
       "      <td>2022</td>\n",
       "      <td>2022</td>\n",
       "      <td>Wyoming</td>\n",
       "      <td>Physical Activity</td>\n",
       "      <td>Percent of adults who engage in no leisure-tim...</td>\n",
       "      <td>16.7</td>\n",
       "      <td>25 - 34</td>\n",
       "      <td>NaN</td>\n",
       "    </tr>\n",
       "    <tr>\n",
       "      <th>133311</th>\n",
       "      <td>2022</td>\n",
       "      <td>2022</td>\n",
       "      <td>Wyoming</td>\n",
       "      <td>Obesity / Weight Status</td>\n",
       "      <td>Percent of adults aged 18 years and older who ...</td>\n",
       "      <td>31.3</td>\n",
       "      <td>25 - 34</td>\n",
       "      <td>NaN</td>\n",
       "    </tr>\n",
       "    <tr>\n",
       "      <th>133329</th>\n",
       "      <td>2022</td>\n",
       "      <td>2022</td>\n",
       "      <td>Wyoming</td>\n",
       "      <td>Obesity / Weight Status</td>\n",
       "      <td>Percent of adults aged 18 years and older who ...</td>\n",
       "      <td>39.0</td>\n",
       "      <td>25 - 34</td>\n",
       "      <td>NaN</td>\n",
       "    </tr>\n",
       "  </tbody>\n",
       "</table>\n",
       "<p>3330 rows × 8 columns</p>\n",
       "</div>"
      ],
      "text/plain": [
       "        YearStart  YearEnd   LocationDesc                    Class  \\\n",
       "40105        2011     2011        Alabama  Obesity / Weight Status   \n",
       "40162        2015     2015    Puerto Rico        Physical Activity   \n",
       "40180        2011     2011       National        Physical Activity   \n",
       "40216        2015     2015    Puerto Rico        Physical Activity   \n",
       "40226        2013     2013    Puerto Rico  Obesity / Weight Status   \n",
       "...           ...      ...            ...                      ...   \n",
       "133231       2022     2022  West Virginia  Obesity / Weight Status   \n",
       "133243       2022     2022  West Virginia  Obesity / Weight Status   \n",
       "133271       2022     2022        Wyoming        Physical Activity   \n",
       "133311       2022     2022        Wyoming  Obesity / Weight Status   \n",
       "133329       2022     2022        Wyoming  Obesity / Weight Status   \n",
       "\n",
       "                                                 Question  Data_Value  \\\n",
       "40105   Percent of adults aged 18 years and older who ...        35.2   \n",
       "40162   Percent of adults who achieve at least 150 min...        39.0   \n",
       "40180   Percent of adults who engage in no leisure-tim...        22.1   \n",
       "40216   Percent of adults who achieve at least 150 min...        15.0   \n",
       "40226   Percent of adults aged 18 years and older who ...        26.5   \n",
       "...                                                   ...         ...   \n",
       "133231  Percent of adults aged 18 years and older who ...        31.7   \n",
       "133243  Percent of adults aged 18 years and older who ...        42.0   \n",
       "133271  Percent of adults who engage in no leisure-tim...        16.7   \n",
       "133311  Percent of adults aged 18 years and older who ...        31.3   \n",
       "133329  Percent of adults aged 18 years and older who ...        39.0   \n",
       "\n",
       "       Age(years) Income  \n",
       "40105     25 - 34    NaN  \n",
       "40162     25 - 34    NaN  \n",
       "40180     25 - 34    NaN  \n",
       "40216     25 - 34    NaN  \n",
       "40226     25 - 34    NaN  \n",
       "...           ...    ...  \n",
       "133231    25 - 34    NaN  \n",
       "133243    25 - 34    NaN  \n",
       "133271    25 - 34    NaN  \n",
       "133311    25 - 34    NaN  \n",
       "133329    25 - 34    NaN  \n",
       "\n",
       "[3330 rows x 8 columns]"
      ]
     },
     "execution_count": 6,
     "metadata": {},
     "output_type": "execute_result"
    }
   ],
   "source": [
    "obesity_data.loc[obesity_data['Age(years)']=='25 - 34',:]"
   ]
  },
  {
   "cell_type": "code",
   "execution_count": 7,
   "id": "51ec1c35",
   "metadata": {},
   "outputs": [
    {
     "data": {
      "text/plain": [
       "array(['Percent of students in grades 9-12 who achieve 1 hour or more of moderate-and/or vigorous-intensity physical activity daily',\n",
       "       'Percent of students in grades 9-12 who have obesity',\n",
       "       'Percent of students in grades 9-12 who participate in daily physical education',\n",
       "       'Percent of students in grades 9-12 who have an overweight classification',\n",
       "       'Percent of students in grades 9-12 who drank regular soda/pop at least one time per day',\n",
       "       'Percent of students in grades 9-12 who consume vegetables less than 1 time daily',\n",
       "       'Percent of students in grades 9-12 who consume fruit less than 1 time daily',\n",
       "       'Percent of students in grades 9-12 watching 3 or more hours of television each school day',\n",
       "       'Percent of adults who engage in no leisure-time physical activity',\n",
       "       'Percent of adults aged 18 years and older who have obesity',\n",
       "       'Percent of adults aged 18 years and older who have an overweight classification',\n",
       "       'Percent of adults who achieve at least 300 minutes a week of moderate-intensity aerobic physical activity or 150 minutes a week of vigorous-intensity aerobic activity (or an equivalent combination)',\n",
       "       'Percent of adults who achieve at least 150 minutes a week of moderate-intensity aerobic physical activity or 75 minutes a week of vigorous-intensity aerobic physical activity and engage in muscle-strengthening activities on 2 or more days a week',\n",
       "       'Percent of adults who achieve at least 150 minutes a week of moderate-intensity aerobic physical activity or 75 minutes a week of vigorous-intensity aerobic activity (or an equivalent combination)',\n",
       "       'Percent of adults who engage in muscle-strengthening activities on 2 or more days a week',\n",
       "       'Percent of adults who report consuming fruit less than one time daily',\n",
       "       'Percent of adults who report consuming vegetables less than one time daily'],\n",
       "      dtype=object)"
      ]
     },
     "execution_count": 7,
     "metadata": {},
     "output_type": "execute_result"
    }
   ],
   "source": [
    "obesity_data['Question'].unique()"
   ]
  },
  {
   "cell_type": "markdown",
   "id": "a459a6de",
   "metadata": {},
   "source": [
    "## Q:'Percent of students in grades 9-12 who have obesity'"
   ]
  },
  {
   "cell_type": "code",
   "execution_count": 8,
   "id": "b5426a7d",
   "metadata": {},
   "outputs": [],
   "source": [
    "def select_df_contain_content(df,column,content):\n",
    "    return df.loc[df[column] == content,:]"
   ]
  },
  {
   "cell_type": "code",
   "execution_count": 9,
   "id": "3a7f19c5",
   "metadata": {},
   "outputs": [],
   "source": [
    "Q_obs = select_df_contain_content(obesity_data,'Question','Percent of students in grades 9-12 who have obesity')"
   ]
  },
  {
   "cell_type": "code",
   "execution_count": 10,
   "id": "2f1f167e",
   "metadata": {},
   "outputs": [],
   "source": [
    "Q_obs = Q_obs.sort_values('YearStart',ascending = True)"
   ]
  },
  {
   "cell_type": "code",
   "execution_count": 11,
   "id": "4df8d455",
   "metadata": {},
   "outputs": [],
   "source": [
    "national_obs = select_df_contain_content(Q_obs,'LocationDesc','National')"
   ]
  },
  {
   "cell_type": "code",
   "execution_count": 20,
   "id": "cf305208",
   "metadata": {},
   "outputs": [],
   "source": [
    "x = national_obs.groupby(['YearStart'])['Data_Value'].mean()"
   ]
  },
  {
   "cell_type": "code",
   "execution_count": 47,
   "id": "2cc75e59",
   "metadata": {},
   "outputs": [
    {
     "name": "stderr",
     "output_type": "stream",
     "text": [
      "C:\\Users\\17925\\AppData\\Local\\Temp\\ipykernel_32420\\2403855326.py:4: UserWarning: FixedFormatter should only be used together with FixedLocator\n",
      "  ax.set_yticklabels([str(i)+\"%\" for i in range(0,18,2)])\n"
     ]
    },
    {
     "data": {
      "image/png": "[encoded data removed]",
      "text/plain": [
       "<Figure size 1200x500 with 1 Axes>"
      ]
     },
     "metadata": {},
     "output_type": "display_data"
    }
   ],
   "source": [
    "fig,ax = plt.subplots(1,1,figsize = (12,5))\n",
    "ax.bar([int(i) for i in x.index],x.values)\n",
    "ax.set_xticks(np.arange(2001,2020))\n",
    "ax.set_yticklabels([str(i)+\"%\" for i in range(0,18,2)])\n",
    "ax.set_title('National Obesity rate of 9-12 grade students')\n",
    "ax.set_xlabel('Year')\n",
    "ax.set_ylabel('Percent')\n",
    "plt.show();"
   ]
  },
  {
   "cell_type": "markdown",
   "id": "366a7740",
   "metadata": {},
   "source": [
    "## Q：Percent of students in grades 9-12 who have an overweight classification"
   ]
  },
  {
   "cell_type": "code",
   "execution_count": 40,
   "id": "b36a4a1c",
   "metadata": {},
   "outputs": [],
   "source": [
    "Q_ow = select_df_contain_content(obesity_data,'Question','Percent of students in grades 9-12 who have an overweight classification')"
   ]
  },
  {
   "cell_type": "code",
   "execution_count": 41,
   "id": "4d06652e",
   "metadata": {},
   "outputs": [],
   "source": [
    "Q_ow = Q_ow.sort_values('YearStart',ascending = True)"
   ]
  },
  {
   "cell_type": "code",
   "execution_count": 45,
   "id": "80ec7b45",
   "metadata": {},
   "outputs": [],
   "source": [
    "national_ow = select_df_contain_content(Q_ow,'LocationDesc','National')"
   ]
  },
  {
   "cell_type": "code",
   "execution_count": 50,
   "id": "46c2df45",
   "metadata": {},
   "outputs": [],
   "source": [
    "x = national_ow.groupby(['YearStart'])['Data_Value'].mean()"
   ]
  },
  {
   "cell_type": "code",
   "execution_count": 51,
   "id": "5ddae84b",
   "metadata": {},
   "outputs": [
    {
     "name": "stderr",
     "output_type": "stream",
     "text": [
      "C:\\Users\\17925\\AppData\\Local\\Temp\\ipykernel_32420\\934418107.py:4: UserWarning: FixedFormatter should only be used together with FixedLocator\n",
      "  ax.set_yticklabels([str(i)+\"%\" for i in range(0,18,2)])\n"
     ]
    },
    {
     "data": {
      "image/png": "[encoded data removed]",
      "text/plain": [
       "<Figure size 1200x500 with 1 Axes>"
      ]
     },
     "metadata": {},
     "output_type": "display_data"
    }
   ],
   "source": [
    "fig,ax = plt.subplots(1,1,figsize = (12,5))\n",
    "ax.bar([int(i) for i in x.index],x.values)\n",
    "ax.set_xticks(np.arange(2001,2020))\n",
    "ax.set_yticklabels([str(i)+\"%\" for i in range(0,18,2)])\n",
    "ax.set_title('National Overweight rate of 9-12 grade students')\n",
    "ax.set_xlabel('Year')\n",
    "ax.set_ylabel('Percent')\n",
    "plt.show();"
   ]
  },
  {
   "cell_type": "code",
   "execution_count": null,
   "id": "37a42376",
   "metadata": {},
   "outputs": [],
   "source": []
  }
 ],
 "metadata": {
  "kernelspec": {
   "display_name": "Python 3 (ipykernel)",
   "language": "python",
   "name": "python3"
  },
  "language_info": {
   "codemirror_mode": {
    "name": "ipython",
    "version": 3
   },
   "file_extension": ".py",
   "mimetype": "text/x-python",
   "name": "python",
   "nbconvert_exporter": "python",
   "pygments_lexer": "ipython3",
   "version": "3.11.5"
  }
 },
 "nbformat": 4,
 "nbformat_minor": 5
}
